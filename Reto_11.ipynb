{
 "cells": [
  {
   "cell_type": "code",
   "execution_count": 1,
   "metadata": {},
   "outputs": [
    {
     "name": "stdout",
     "output_type": "stream",
     "text": [
      "Ingrese la primera matriz:\n",
      "Ingrese la segunda matriz:\n",
      "\n",
      "Matriz 1:\n",
      "[1, 2, 3]\n",
      "[3, 4, 5]\n",
      "[5, 6, 6]\n",
      "\n",
      "Matriz 2:\n",
      "[1, 2, 3]\n",
      "[1, 2, 3]\n",
      "[1, 2, 3]\n",
      "\n",
      "Suma de matrices:\n",
      "[2, 4, 6]\n",
      "[4, 6, 8]\n",
      "[6, 8, 9]\n",
      "\n",
      "Resta de matrices:\n",
      "[0, 0, 0]\n",
      "[2, 2, 2]\n",
      "[4, 4, 3]\n"
     ]
    }
   ],
   "source": [
    "#1. Desarrolle un programa que permita realizar la suma/resta de matrices. El programa debe validar las condiciones necesarias para ejecutar la operación.\n",
    "\n",
    "def ingresar_matriz():\n",
    "    filas = int(input(\"Escribe el número de filas de la matriz: \"))\n",
    "    columnas = int(input(\"Escribe el número de columnas de la matriz: \"))\n",
    "    matriz = []   \n",
    "    for i in range(filas):\n",
    "        fila = []\n",
    "        for j in range(columnas):\n",
    "            elemento = int(input(f\"Escribe el elemento en la posición [{i}][{j}]: \"))\n",
    "            fila.append(elemento)\n",
    "        matriz.append(fila)   \n",
    "    return matriz\n",
    "\n",
    "def suma_matrices(matriz1, matriz2):\n",
    "    filas = len(matriz1)\n",
    "    columnas = len(matriz1[0])\n",
    "    if filas != len(matriz2) or columnas != len(matriz2[0]):\n",
    "        return None\n",
    "    resultado = []\n",
    "    for i in range(filas):\n",
    "        fila = []\n",
    "        for j in range(columnas):\n",
    "            suma = matriz1[i][j] + matriz2[i][j]\n",
    "            fila.append(suma)\n",
    "        resultado.append(fila)\n",
    "    return resultado\n",
    "\n",
    "def resta_matrices(matriz1, matriz2):\n",
    "    filas = len(matriz1)\n",
    "    columnas = len(matriz1[0])\n",
    "    if filas != len(matriz2) or columnas != len(matriz2[0]):\n",
    "        return None\n",
    "    resultado = []\n",
    "    for i in range(filas):\n",
    "        fila = []\n",
    "        for j in range(columnas):\n",
    "            resta = matriz1[i][j] - matriz2[i][j]\n",
    "            fila.append(resta)\n",
    "        resultado.append(fila)\n",
    "    return resultado\n",
    "\n",
    "print(\"Ingrese la primera matriz:\")\n",
    "matriz1 = ingresar_matriz()\n",
    "print(\"Ingrese la segunda matriz:\")\n",
    "matriz2 = ingresar_matriz()\n",
    "print(\"\\nMatriz 1:\")\n",
    "for fila in matriz1:\n",
    "    print(fila)\n",
    "print(\"\\nMatriz 2:\")\n",
    "for fila in matriz2:\n",
    "    print(fila)\n",
    "resultado_suma = suma_matrices(matriz1, matriz2)\n",
    "if resultado_suma is not None:\n",
    "    print(\"\\nSuma de matrices:\")\n",
    "    for fila in resultado_suma:\n",
    "        print(fila)\n",
    "else:\n",
    "    print(\"No se pueden sumar las matrices debido a dimensiones incorrectas.\")\n",
    "resultado_resta = resta_matrices(matriz1, matriz2)\n",
    "if resultado_resta is not None:\n",
    "    print(\"\\nResta de matrices:\")\n",
    "    for fila in resultado_resta:\n",
    "        print(fila)\n",
    "else:\n",
    "    print(\"No se pueden restar las matrices debido a dimensiones incorrectas.\")\n"
   ]
  },
  {
   "cell_type": "code",
   "execution_count": 3,
   "metadata": {},
   "outputs": [
    {
     "name": "stdout",
     "output_type": "stream",
     "text": [
      "matriz 1: [[1, 2, 3], [1, 2, 3], [1, 2, 3]]\n",
      "Matriz 2 [[1, 2, 3], [1, 2, 3], [1, 2, 3]]\n",
      "el producto de las matrices es:\n",
      "[6, 12, 18]\n",
      "[6, 12, 18]\n",
      "[6, 12, 18]\n"
     ]
    }
   ],
   "source": [
    "#2. Desarrolle un programa que permita realizar el producto de matrices. El programa debe validar las condiciones necesarias para ejecutar la operación.\n",
    "\n",
    "def ingresar_matriz(filas, columnas): \n",
    "     matriz = []\n",
    "     for i in range(filas):\n",
    "        fila = []\n",
    "        for j in range(columnas):\n",
    "            elemento = int(input(f\"Ingrese el elemento [{i}][{j}]: \"))\n",
    "            fila.append(elemento)\n",
    "        matriz.append(fila)\n",
    "     return matriz\n",
    "\n",
    "def multiplicar_matrices(matriz1, matriz2):\n",
    "    resultado = [] \n",
    "    for i in range(len(matriz1)):\n",
    "        fila = []\n",
    "        for j in range(len(matriz2[0])): \n",
    "            elemento = 0 \n",
    "            for k in range(len(matriz2)):\n",
    "                elemento += matriz1[i][k] * matriz2[k][j] \n",
    "            fila.append(elemento)\n",
    "        resultado.append(fila) \n",
    "    return resultado\n",
    "\n",
    "if __name__ == \"__main__\":\n",
    " filas = int(input(\"Ingrese el número de filas de las matrices: \"))\n",
    " columnas = int(input(\"Ingrese el número de columnas de las matrices: \"))\n",
    " matriz1 = ingresar_matriz(filas, columnas)\n",
    " print(\"matriz 1:\", matriz1)\n",
    " matriz2 = ingresar_matriz(filas, columnas)\n",
    " print(\"Matriz 2\",matriz2)\n",
    "if len(matriz1) != len(matriz2) or len(matriz1[0]) != len(matriz2[0]):\n",
    "    print(\"Error: Las matrices deben tener las mismas dimensiones para realizar la operación.\")\n",
    "else:\n",
    "    matriz_multiplicacion = multiplicar_matrices(matriz1, matriz2)\n",
    "    print(\"el producto de las matrices es:\")\n",
    "    for fila in matriz_multiplicacion:\n",
    "        print(fila)"
   ]
  },
  {
   "cell_type": "code",
   "execution_count": 4,
   "metadata": {},
   "outputs": [
    {
     "name": "stdout",
     "output_type": "stream",
     "text": [
      "Ingrese los elementos de la matriz:\n",
      "\n",
      "Matriz ingresada:\n",
      "[1, 2, 3]\n",
      "[1, 2, 3]\n",
      "[1, 2, 3]\n",
      "\n",
      "Matriz transpuesta:\n",
      "[1, 1, 1]\n",
      "[2, 2, 2]\n",
      "[3, 3, 3]\n"
     ]
    }
   ],
   "source": [
    "#3. Desarrolle un programa que permita obtener la matriz transpuesta de una matriz ingresada. El programa debe validar las condiciones necesarias para ejecutar la operación.\n",
    "\n",
    "def ingresar_matriz(filas, columnas):\n",
    "    matriz = []\n",
    "    print(\"Ingrese los elementos de la matriz:\")\n",
    "    for i in range(filas):\n",
    "        fila = []\n",
    "        for j in range(columnas):\n",
    "            elemento = int(input(f\"Ingrese el elemento en la posición [{i}][{j}]: \"))\n",
    "            fila.append(elemento)\n",
    "        matriz.append(fila)\n",
    "    return matriz\n",
    " \n",
    "def matriz_transpuesta(matriz):\n",
    "    filas = len(matriz)\n",
    "    columnas = len(matriz[0])\n",
    "    matriz_transpuesta = []\n",
    "    for j in range(columnas):\n",
    "        fila = []\n",
    "        for i in range(filas):\n",
    "            fila.append(matriz[i][j])\n",
    "        matriz_transpuesta.append(fila)\n",
    "    return matriz_transpuesta\n",
    "\n",
    "filas = int(input(\"Ingrese el número de filas de la matriz: \"))\n",
    "columnas = int(input(\"Ingrese el número de columnas de la matriz: \"))\n",
    "matriz = ingresar_matriz(filas, columnas)\n",
    "print(\"\\nMatriz ingresada:\")\n",
    "for fila in matriz:\n",
    "    print(fila)\n",
    "matriz_transpuesta = matriz_transpuesta(matriz)\n",
    "print(\"\\nMatriz transpuesta:\")\n",
    "for fila in matriz_transpuesta:\n",
    "    print(fila)"
   ]
  },
  {
   "cell_type": "code",
   "execution_count": 17,
   "metadata": {},
   "outputs": [
    {
     "name": "stdout",
     "output_type": "stream",
     "text": [
      "[1, 2, 3]\n",
      "[1, 2, 3]\n",
      "[1, 2, 3]\n",
      "La suma de la columna 1 es: 6\n"
     ]
    }
   ],
   "source": [
    "#4. Desarrollar un programa que sume los elementos de una columna dada de una matriz.\n",
    "\n",
    "def ingresar_matriz(filas, columnas): \n",
    "     matriz = [] \n",
    "     for i in range(filas):\n",
    "        fila = [] \n",
    "        for j in range(columnas):\n",
    "            elemento = int(input(f\"Ingrese el elemento [{i}][{j}]: \"))\n",
    "            fila.append(elemento) \n",
    "        matriz.append(fila)\n",
    "     return matriz\n",
    "\n",
    "def sumar_columna(matriz, columna):\n",
    "    suma = 0\n",
    "    for i in range(len(matriz)):\n",
    "        suma += matriz[i][columna]  \n",
    "    return suma\n",
    "\n",
    "if __name__ == \"__main__\":\n",
    " filas = int(input(\"Ingrese el número de filas de la matriz: \"))\n",
    " columnas = int(input(\"Ingrese el número de columnas de la matriz: \"))\n",
    " matriz = ingresar_matriz(filas, columnas)\n",
    " for fila in matriz:\n",
    "  print (fila)\n",
    " columna = int(input(\"Ingrese el número de columna a sumar: \"))\n",
    " suma_columna = sumar_columna(matriz, columna)\n",
    " print(f\"La suma de la columna {columna} es: {suma_columna}\")"
   ]
  },
  {
   "cell_type": "code",
   "execution_count": 13,
   "metadata": {},
   "outputs": [
    {
     "name": "stdout",
     "output_type": "stream",
     "text": [
      "La suma de la fila #1 es igual a  14\n",
      "La suma de la fila #2 es igual a  77\n",
      "La suma de la fila #3 es igual a  194\n"
     ]
    }
   ],
   "source": [
    "#5. Desarrollar un programa que sume los elementos de una fila dada de una matriz.\n",
    "\n",
    "A = [[1, 4, 9], [16, 25, 36], [49, 64, 81]] # Definimos la matriz\n",
    "b = 0 # Definimos la variable b igual a 0\n",
    "for i in range(len(A)): # Recorre filas\n",
    "    suma = 0 # Definimos suma = 0 para que el valor se reinicie \n",
    "    b = b + 1 # esta es la variable para enumerar las filas\n",
    "    for j in range(len(A[i])): # Recorre cada elemento de la fila\n",
    "        suma = suma + A[i][j] # Suma es igual a la suma de todos los valores de la fila\n",
    "    print(\"La suma de la fila #\" + str(b) + \" es igual a \", suma) # Imprimimos el resultado."
   ]
  },
  {
   "attachments": {},
   "cell_type": "markdown",
   "metadata": {},
   "source": []
  }
 ],
 "metadata": {
  "kernelspec": {
   "display_name": "Python 3",
   "language": "python",
   "name": "python3"
  },
  "language_info": {
   "codemirror_mode": {
    "name": "ipython",
    "version": 3
   },
   "file_extension": ".py",
   "mimetype": "text/x-python",
   "name": "python",
   "nbconvert_exporter": "python",
   "pygments_lexer": "ipython3",
   "version": "3.11.2"
  },
  "orig_nbformat": 4
 },
 "nbformat": 4,
 "nbformat_minor": 2
}
